{
 "cells": [
  {
   "cell_type": "code",
   "execution_count": 1,
   "metadata": {},
   "outputs": [],
   "source": [
    "%load_ext autoreload\n",
    "%autoreload 2"
   ]
  },
  {
   "cell_type": "code",
   "execution_count": 2,
   "metadata": {},
   "outputs": [],
   "source": [
    "from stock_env import StockEnv"
   ]
  },
  {
   "cell_type": "code",
   "execution_count": 3,
   "metadata": {},
   "outputs": [],
   "source": [
    "import pandas as pd\n",
    "import numpy as np\n",
    "\n",
    "data = pd.read_csv(\"AAPL.csv\")"
   ]
  },
  {
   "cell_type": "code",
   "execution_count": 4,
   "metadata": {},
   "outputs": [
    {
     "data": {
      "text/html": [
       "<div>\n",
       "<style scoped>\n",
       "    .dataframe tbody tr th:only-of-type {\n",
       "        vertical-align: middle;\n",
       "    }\n",
       "\n",
       "    .dataframe tbody tr th {\n",
       "        vertical-align: top;\n",
       "    }\n",
       "\n",
       "    .dataframe thead th {\n",
       "        text-align: right;\n",
       "    }\n",
       "</style>\n",
       "<table border=\"1\" class=\"dataframe\">\n",
       "  <thead>\n",
       "    <tr style=\"text-align: right;\">\n",
       "      <th></th>\n",
       "      <th>Unnamed: 0</th>\n",
       "      <th>Date</th>\n",
       "      <th>Open</th>\n",
       "      <th>High</th>\n",
       "      <th>Low</th>\n",
       "      <th>Close</th>\n",
       "      <th>Volume</th>\n",
       "    </tr>\n",
       "  </thead>\n",
       "  <tbody>\n",
       "    <tr>\n",
       "      <th>0</th>\n",
       "      <td>0</td>\n",
       "      <td>1998-01-02</td>\n",
       "      <td>13.63</td>\n",
       "      <td>16.25</td>\n",
       "      <td>13.50</td>\n",
       "      <td>16.25</td>\n",
       "      <td>6411700.0</td>\n",
       "    </tr>\n",
       "    <tr>\n",
       "      <th>1</th>\n",
       "      <td>1</td>\n",
       "      <td>1998-01-05</td>\n",
       "      <td>16.50</td>\n",
       "      <td>16.56</td>\n",
       "      <td>15.19</td>\n",
       "      <td>15.88</td>\n",
       "      <td>5820300.0</td>\n",
       "    </tr>\n",
       "    <tr>\n",
       "      <th>2</th>\n",
       "      <td>2</td>\n",
       "      <td>1998-01-06</td>\n",
       "      <td>15.94</td>\n",
       "      <td>20.00</td>\n",
       "      <td>14.75</td>\n",
       "      <td>18.94</td>\n",
       "      <td>16182800.0</td>\n",
       "    </tr>\n",
       "    <tr>\n",
       "      <th>3</th>\n",
       "      <td>3</td>\n",
       "      <td>1998-01-07</td>\n",
       "      <td>18.81</td>\n",
       "      <td>19.00</td>\n",
       "      <td>17.31</td>\n",
       "      <td>17.50</td>\n",
       "      <td>9300200.0</td>\n",
       "    </tr>\n",
       "    <tr>\n",
       "      <th>4</th>\n",
       "      <td>4</td>\n",
       "      <td>1998-01-08</td>\n",
       "      <td>17.44</td>\n",
       "      <td>18.62</td>\n",
       "      <td>16.94</td>\n",
       "      <td>18.19</td>\n",
       "      <td>6910900.0</td>\n",
       "    </tr>\n",
       "  </tbody>\n",
       "</table>\n",
       "</div>"
      ],
      "text/plain": [
       "   Unnamed: 0        Date   Open   High    Low  Close      Volume\n",
       "0           0  1998-01-02  13.63  16.25  13.50  16.25   6411700.0\n",
       "1           1  1998-01-05  16.50  16.56  15.19  15.88   5820300.0\n",
       "2           2  1998-01-06  15.94  20.00  14.75  18.94  16182800.0\n",
       "3           3  1998-01-07  18.81  19.00  17.31  17.50   9300200.0\n",
       "4           4  1998-01-08  17.44  18.62  16.94  18.19   6910900.0"
      ]
     },
     "execution_count": 4,
     "metadata": {},
     "output_type": "execute_result"
    }
   ],
   "source": [
    "data.head()"
   ]
  },
  {
   "cell_type": "markdown",
   "metadata": {},
   "source": [
    "### Dummy env check:\n",
    "Let's simply run more env steps that we have data in the dataset, hence the environemnt will go through entire dataframe at least once."
   ]
  },
  {
   "cell_type": "code",
   "execution_count": 5,
   "metadata": {},
   "outputs": [
    {
     "name": "stderr",
     "output_type": "stream",
     "text": [
      "/Users/mikhail.zanka/repos/gym/gym/logger.py:30: UserWarning: \u001b[33mWARN: Box bound precision lowered by casting to float32\u001b[0m\n",
      "  warnings.warn(colorize('%s: %s'%('WARN', msg % args), 'yellow'))\n"
     ]
    }
   ],
   "source": [
    "env = StockEnv(data)"
   ]
  },
  {
   "cell_type": "code",
   "execution_count": 6,
   "metadata": {},
   "outputs": [],
   "source": [
    "observation = env.reset()\n",
    "n_steps = 0\n",
    "for _ in range(10000):\n",
    "    action = (1, 5) # your agent here (this takes random actions)\n",
    "    observation, reward, done, info = env.step(action)\n",
    "\n",
    "    if done:\n",
    "        observation = env.reset()\n",
    "    n_steps += 1"
   ]
  },
  {
   "cell_type": "markdown",
   "metadata": {},
   "source": [
    "Last to values of the observation indicate that our agent putted all cash into the stocks, which is expected behaviour."
   ]
  },
  {
   "cell_type": "code",
   "execution_count": 7,
   "metadata": {},
   "outputs": [
    {
     "data": {
      "text/plain": [
       "array([224.18, 224.98, 222.51, 224.45, 15961000.0, 225.38, 225.5, 220.25,\n",
       "       223.84, 17625100.0, 227.37, 227.73, 225.75, 226.6, 14868700.0,\n",
       "       223.91, 225.5, 223.32, 225.5, 14489300.0, 223.8295, 225.48, 223.2,\n",
       "       224.84, 21293500.0, 223.36422182956173, 0.0, 112.38388624328505],\n",
       "      dtype=object)"
      ]
     },
     "execution_count": 7,
     "metadata": {},
     "output_type": "execute_result"
    }
   ],
   "source": [
    "observation"
   ]
  },
  {
   "cell_type": "code",
   "execution_count": 8,
   "metadata": {},
   "outputs": [
    {
     "data": {
      "text/plain": [
       "25153.59171122691"
      ]
     },
     "execution_count": 8,
     "metadata": {},
     "output_type": "execute_result"
    }
   ],
   "source": [
    "env.capital"
   ]
  },
  {
   "cell_type": "markdown",
   "metadata": {},
   "source": [
    "## Train with stable-baselines-v3 (Pytorch version)"
   ]
  },
  {
   "cell_type": "code",
   "execution_count": 9,
   "metadata": {},
   "outputs": [
    {
     "name": "stderr",
     "output_type": "stream",
     "text": [
      "/Users/mikhail.zanka/opt/anaconda3/lib/python3.7/site-packages/setuptools/distutils_patch.py:26: UserWarning: Distutils was imported before Setuptools. This usage is discouraged and may exhibit undesirable behaviors or errors. Please use Setuptools' objects directly or at least import Setuptools first.\n",
      "  \"Distutils was imported before Setuptools. This usage is discouraged \"\n"
     ]
    }
   ],
   "source": [
    "from stable_baselines3 import PPO\n",
    "from stable_baselines3.common.env_util import DummyVecEnv"
   ]
  },
  {
   "cell_type": "code",
   "execution_count": 10,
   "metadata": {},
   "outputs": [
    {
     "name": "stderr",
     "output_type": "stream",
     "text": [
      "/Users/mikhail.zanka/repos/gym/gym/logger.py:30: UserWarning: \u001b[33mWARN: Box bound precision lowered by casting to float32\u001b[0m\n",
      "  warnings.warn(colorize('%s: %s'%('WARN', msg % args), 'yellow'))\n"
     ]
    }
   ],
   "source": [
    "env = DummyVecEnv([lambda: StockEnv(data)])"
   ]
  },
  {
   "cell_type": "code",
   "execution_count": 11,
   "metadata": {
    "collapsed": true,
    "jupyter": {
     "outputs_hidden": true
    }
   },
   "outputs": [
    {
     "name": "stdout",
     "output_type": "stream",
     "text": [
      "Using cpu device\n",
      "-----------------------------\n",
      "| time/              |      |\n",
      "|    fps             | 598  |\n",
      "|    iterations      | 1    |\n",
      "|    time_elapsed    | 3    |\n",
      "|    total_timesteps | 2048 |\n",
      "-----------------------------\n",
      "-----------------------------------------\n",
      "| time/                   |             |\n",
      "|    fps                  | 545         |\n",
      "|    iterations           | 2           |\n",
      "|    time_elapsed         | 7           |\n",
      "|    total_timesteps      | 4096        |\n",
      "| train/                  |             |\n",
      "|    approx_kl            | 0.003946802 |\n",
      "|    clip_fraction        | 0.0208      |\n",
      "|    clip_range           | 0.2         |\n",
      "|    entropy_loss         | -2.85       |\n",
      "|    explained_variance   | 2.88e-05    |\n",
      "|    learning_rate        | 0.0003      |\n",
      "|    loss                 | 3.67e+03    |\n",
      "|    n_updates            | 10          |\n",
      "|    policy_gradient_loss | -0.00394    |\n",
      "|    std                  | 1.01        |\n",
      "|    value_loss           | 9.23e+03    |\n",
      "-----------------------------------------\n",
      "-----------------------------------------\n",
      "| time/                   |             |\n",
      "|    fps                  | 534         |\n",
      "|    iterations           | 3           |\n",
      "|    time_elapsed         | 11          |\n",
      "|    total_timesteps      | 6144        |\n",
      "| train/                  |             |\n",
      "|    approx_kl            | 0.006706666 |\n",
      "|    clip_fraction        | 0.0643      |\n",
      "|    clip_range           | 0.2         |\n",
      "|    entropy_loss         | -2.84       |\n",
      "|    explained_variance   | -4.65e-05   |\n",
      "|    learning_rate        | 0.0003      |\n",
      "|    loss                 | 1.16e+04    |\n",
      "|    n_updates            | 20          |\n",
      "|    policy_gradient_loss | -0.000833   |\n",
      "|    std                  | 0.999       |\n",
      "|    value_loss           | 8.04e+04    |\n",
      "-----------------------------------------\n",
      "------------------------------------------\n",
      "| time/                   |              |\n",
      "|    fps                  | 527          |\n",
      "|    iterations           | 4            |\n",
      "|    time_elapsed         | 15           |\n",
      "|    total_timesteps      | 8192         |\n",
      "| train/                  |              |\n",
      "|    approx_kl            | 0.0031884117 |\n",
      "|    clip_fraction        | 0.00728      |\n",
      "|    clip_range           | 0.2          |\n",
      "|    entropy_loss         | -2.84        |\n",
      "|    explained_variance   | -2.97e-05    |\n",
      "|    learning_rate        | 0.0003       |\n",
      "|    loss                 | 2.73e+04     |\n",
      "|    n_updates            | 30           |\n",
      "|    policy_gradient_loss | -0.00141     |\n",
      "|    std                  | 1            |\n",
      "|    value_loss           | 4.74e+04     |\n",
      "------------------------------------------\n",
      "------------------------------------------\n",
      "| time/                   |              |\n",
      "|    fps                  | 522          |\n",
      "|    iterations           | 5            |\n",
      "|    time_elapsed         | 19           |\n",
      "|    total_timesteps      | 10240        |\n",
      "| train/                  |              |\n",
      "|    approx_kl            | 0.0030451184 |\n",
      "|    clip_fraction        | 0.0302       |\n",
      "|    clip_range           | 0.2          |\n",
      "|    entropy_loss         | -2.83        |\n",
      "|    explained_variance   | -1.5e-05     |\n",
      "|    learning_rate        | 0.0003       |\n",
      "|    loss                 | 1.28e+04     |\n",
      "|    n_updates            | 40           |\n",
      "|    policy_gradient_loss | -0.00439     |\n",
      "|    std                  | 0.995        |\n",
      "|    value_loss           | 1.11e+05     |\n",
      "------------------------------------------\n",
      "-----------------------------------------\n",
      "| time/                   |             |\n",
      "|    fps                  | 520         |\n",
      "|    iterations           | 6           |\n",
      "|    time_elapsed         | 23          |\n",
      "|    total_timesteps      | 12288       |\n",
      "| train/                  |             |\n",
      "|    approx_kl            | 0.002383435 |\n",
      "|    clip_fraction        | 0.00308     |\n",
      "|    clip_range           | 0.2         |\n",
      "|    entropy_loss         | -2.83       |\n",
      "|    explained_variance   | -3.55e-05   |\n",
      "|    learning_rate        | 0.0003      |\n",
      "|    loss                 | 5.96e+04    |\n",
      "|    n_updates            | 50          |\n",
      "|    policy_gradient_loss | -0.00115    |\n",
      "|    std                  | 0.997       |\n",
      "|    value_loss           | 8.28e+04    |\n",
      "-----------------------------------------\n",
      "-----------------------------------------\n",
      "| time/                   |             |\n",
      "|    fps                  | 518         |\n",
      "|    iterations           | 7           |\n",
      "|    time_elapsed         | 27          |\n",
      "|    total_timesteps      | 14336       |\n",
      "| train/                  |             |\n",
      "|    approx_kl            | 0.008773522 |\n",
      "|    clip_fraction        | 0.0966      |\n",
      "|    clip_range           | 0.2         |\n",
      "|    entropy_loss         | -2.82       |\n",
      "|    explained_variance   | -0.00034    |\n",
      "|    learning_rate        | 0.0003      |\n",
      "|    loss                 | 2.99e+03    |\n",
      "|    n_updates            | 60          |\n",
      "|    policy_gradient_loss | -0.00448    |\n",
      "|    std                  | 0.985       |\n",
      "|    value_loss           | 1.18e+04    |\n",
      "-----------------------------------------\n",
      "-----------------------------------------\n",
      "| time/                   |             |\n",
      "|    fps                  | 517         |\n",
      "|    iterations           | 8           |\n",
      "|    time_elapsed         | 31          |\n",
      "|    total_timesteps      | 16384       |\n",
      "| train/                  |             |\n",
      "|    approx_kl            | 0.003215084 |\n",
      "|    clip_fraction        | 0.00571     |\n",
      "|    clip_range           | 0.2         |\n",
      "|    entropy_loss         | -2.81       |\n",
      "|    explained_variance   | 0.000102    |\n",
      "|    learning_rate        | 0.0003      |\n",
      "|    loss                 | 6.26e+03    |\n",
      "|    n_updates            | 70          |\n",
      "|    policy_gradient_loss | -0.00129    |\n",
      "|    std                  | 0.985       |\n",
      "|    value_loss           | 5.79e+04    |\n",
      "-----------------------------------------\n",
      "------------------------------------------\n",
      "| time/                   |              |\n",
      "|    fps                  | 517          |\n",
      "|    iterations           | 9            |\n",
      "|    time_elapsed         | 35           |\n",
      "|    total_timesteps      | 18432        |\n",
      "| train/                  |              |\n",
      "|    approx_kl            | 0.0043963725 |\n",
      "|    clip_fraction        | 0.0136       |\n",
      "|    clip_range           | 0.2          |\n",
      "|    entropy_loss         | -2.81        |\n",
      "|    explained_variance   | 4.77e-07     |\n",
      "|    learning_rate        | 0.0003       |\n",
      "|    loss                 | 5.51e+05     |\n",
      "|    n_updates            | 80           |\n",
      "|    policy_gradient_loss | -0.00128     |\n",
      "|    std                  | 0.986        |\n",
      "|    value_loss           | 1.26e+06     |\n",
      "------------------------------------------\n",
      "-----------------------------------------\n",
      "| time/                   |             |\n",
      "|    fps                  | 515         |\n",
      "|    iterations           | 10          |\n",
      "|    time_elapsed         | 39          |\n",
      "|    total_timesteps      | 20480       |\n",
      "| train/                  |             |\n",
      "|    approx_kl            | 0.009702429 |\n",
      "|    clip_fraction        | 0.0601      |\n",
      "|    clip_range           | 0.2         |\n",
      "|    entropy_loss         | -2.8        |\n",
      "|    explained_variance   | 0.000174    |\n",
      "|    learning_rate        | 0.0003      |\n",
      "|    loss                 | 1.33e+04    |\n",
      "|    n_updates            | 90          |\n",
      "|    policy_gradient_loss | -0.00363    |\n",
      "|    std                  | 0.976       |\n",
      "|    value_loss           | 2.08e+04    |\n",
      "-----------------------------------------\n"
     ]
    }
   ],
   "source": [
    "model = PPO(\"MlpPolicy\", env, verbose=1)\n",
    "model.learn(total_timesteps=20000)\n",
    "model.save(\"ppo_stock\")"
   ]
  },
  {
   "cell_type": "markdown",
   "metadata": {},
   "source": [
    "## Policy check\n",
    "Let's do a quick check returns (total change of capital), to understand how our policy performs:"
   ]
  },
  {
   "cell_type": "code",
   "execution_count": 41,
   "metadata": {},
   "outputs": [],
   "source": [
    "model = PPO.load(\"ppo_stock\")\n",
    "\n",
    "episode_rewards = []\n",
    "for _ in range(10):\n",
    "    obs = env.reset()\n",
    "    all_rewards = []\n",
    "    while True:\n",
    "        action, _states = model.predict(obs)\n",
    "        obs, rewards, dones, info = env.step(action)\n",
    "        all_rewards.append(rewards)\n",
    "        if dones[0]:\n",
    "            break\n",
    "            \n",
    "    episode_rewards.append(np.sum(np.concatenate(all_rewards)))"
   ]
  },
  {
   "cell_type": "markdown",
   "metadata": {},
   "source": [
    "High variance of the returns indicates that our policy doesn't perform well."
   ]
  },
  {
   "cell_type": "code",
   "execution_count": 45,
   "metadata": {},
   "outputs": [
    {
     "data": {
      "text/plain": [
       "(-3955.1226, 5273.6826)"
      ]
     },
     "execution_count": 45,
     "metadata": {},
     "output_type": "execute_result"
    }
   ],
   "source": [
    "episode_rewards = np.array(episode_rewards)\n",
    "np.mean(episode_rewards), np.std(episode_rewards)"
   ]
  },
  {
   "cell_type": "markdown",
   "metadata": {},
   "source": [
    "## Visualizing training progress:"
   ]
  },
  {
   "cell_type": "markdown",
   "metadata": {},
   "source": [
    "Let's visualize 2 of the basic RL metrics: losses of the policy and value function that we learning.  \n",
    "Reward wasn't used for visualization because it's hard to extract from the stable-baselines without tensorboard."
   ]
  },
  {
   "cell_type": "code",
   "execution_count": 63,
   "metadata": {},
   "outputs": [],
   "source": [
    "from stable_baselines3.common.logger import configure\n",
    "import matplotlib.pyplot as plt"
   ]
  },
  {
   "cell_type": "code",
   "execution_count": 48,
   "metadata": {},
   "outputs": [
    {
     "name": "stdout",
     "output_type": "stream",
     "text": [
      "Using cpu device\n"
     ]
    },
    {
     "data": {
      "text/plain": [
       "<stable_baselines3.ppo.ppo.PPO at 0x7ff6d9353190>"
      ]
     },
     "execution_count": 48,
     "metadata": {},
     "output_type": "execute_result"
    }
   ],
   "source": [
    "tmp_path = \"/tmp/sb3_log/\"\n",
    "# set up logger\n",
    "new_logger = configure(tmp_path, [\"csv\"])\n",
    "\n",
    "model = PPO(\"MlpPolicy\", env, verbose=1)\n",
    "# Set new logger\n",
    "model.set_logger(new_logger)\n",
    "model.learn(20000)"
   ]
  },
  {
   "cell_type": "code",
   "execution_count": 49,
   "metadata": {},
   "outputs": [],
   "source": [
    "logs = pd.read_csv(\"/tmp/sb3_log/progress.csv\")"
   ]
  },
  {
   "cell_type": "code",
   "execution_count": 61,
   "metadata": {},
   "outputs": [
    {
     "data": {
      "text/html": [
       "<div>\n",
       "<style scoped>\n",
       "    .dataframe tbody tr th:only-of-type {\n",
       "        vertical-align: middle;\n",
       "    }\n",
       "\n",
       "    .dataframe tbody tr th {\n",
       "        vertical-align: top;\n",
       "    }\n",
       "\n",
       "    .dataframe thead th {\n",
       "        text-align: right;\n",
       "    }\n",
       "</style>\n",
       "<table border=\"1\" class=\"dataframe\">\n",
       "  <thead>\n",
       "    <tr style=\"text-align: right;\">\n",
       "      <th></th>\n",
       "      <th>time/time_elapsed</th>\n",
       "      <th>time/total_timesteps</th>\n",
       "      <th>time/iterations</th>\n",
       "      <th>time/fps</th>\n",
       "      <th>train/policy_gradient_loss</th>\n",
       "      <th>train/n_updates</th>\n",
       "      <th>train/learning_rate</th>\n",
       "      <th>train/explained_variance</th>\n",
       "      <th>train/clip_range</th>\n",
       "      <th>train/std</th>\n",
       "      <th>train/entropy_loss</th>\n",
       "      <th>train/loss</th>\n",
       "      <th>train/approx_kl</th>\n",
       "      <th>train/value_loss</th>\n",
       "      <th>train/clip_fraction</th>\n",
       "    </tr>\n",
       "  </thead>\n",
       "  <tbody>\n",
       "    <tr>\n",
       "      <th>0</th>\n",
       "      <td>3</td>\n",
       "      <td>2048</td>\n",
       "      <td>1</td>\n",
       "      <td>600</td>\n",
       "      <td>NaN</td>\n",
       "      <td>NaN</td>\n",
       "      <td>NaN</td>\n",
       "      <td>NaN</td>\n",
       "      <td>NaN</td>\n",
       "      <td>NaN</td>\n",
       "      <td>NaN</td>\n",
       "      <td>NaN</td>\n",
       "      <td>NaN</td>\n",
       "      <td>NaN</td>\n",
       "      <td>NaN</td>\n",
       "    </tr>\n",
       "    <tr>\n",
       "      <th>1</th>\n",
       "      <td>7</td>\n",
       "      <td>4096</td>\n",
       "      <td>2</td>\n",
       "      <td>554</td>\n",
       "      <td>-0.003963</td>\n",
       "      <td>10.0</td>\n",
       "      <td>0.0003</td>\n",
       "      <td>0.000145</td>\n",
       "      <td>0.2</td>\n",
       "      <td>0.992703</td>\n",
       "      <td>-2.831505</td>\n",
       "      <td>2225.710938</td>\n",
       "      <td>0.006827</td>\n",
       "      <td>1.882349e+04</td>\n",
       "      <td>0.050000</td>\n",
       "    </tr>\n",
       "    <tr>\n",
       "      <th>2</th>\n",
       "      <td>11</td>\n",
       "      <td>6144</td>\n",
       "      <td>3</td>\n",
       "      <td>533</td>\n",
       "      <td>-0.001701</td>\n",
       "      <td>20.0</td>\n",
       "      <td>0.0003</td>\n",
       "      <td>0.000119</td>\n",
       "      <td>0.2</td>\n",
       "      <td>0.988618</td>\n",
       "      <td>-2.817751</td>\n",
       "      <td>88802.515625</td>\n",
       "      <td>0.002473</td>\n",
       "      <td>1.105717e+05</td>\n",
       "      <td>0.013232</td>\n",
       "    </tr>\n",
       "    <tr>\n",
       "      <th>3</th>\n",
       "      <td>15</td>\n",
       "      <td>8192</td>\n",
       "      <td>4</td>\n",
       "      <td>525</td>\n",
       "      <td>-0.005899</td>\n",
       "      <td>30.0</td>\n",
       "      <td>0.0003</td>\n",
       "      <td>-0.000780</td>\n",
       "      <td>0.2</td>\n",
       "      <td>0.973392</td>\n",
       "      <td>-2.800353</td>\n",
       "      <td>5083.414551</td>\n",
       "      <td>0.006648</td>\n",
       "      <td>7.072342e+03</td>\n",
       "      <td>0.065186</td>\n",
       "    </tr>\n",
       "    <tr>\n",
       "      <th>4</th>\n",
       "      <td>19</td>\n",
       "      <td>10240</td>\n",
       "      <td>5</td>\n",
       "      <td>521</td>\n",
       "      <td>-0.003772</td>\n",
       "      <td>40.0</td>\n",
       "      <td>0.0003</td>\n",
       "      <td>0.000012</td>\n",
       "      <td>0.2</td>\n",
       "      <td>0.972896</td>\n",
       "      <td>-2.782533</td>\n",
       "      <td>128967.398438</td>\n",
       "      <td>0.003485</td>\n",
       "      <td>1.756152e+06</td>\n",
       "      <td>0.019873</td>\n",
       "    </tr>\n",
       "  </tbody>\n",
       "</table>\n",
       "</div>"
      ],
      "text/plain": [
       "   time/time_elapsed  time/total_timesteps  time/iterations  time/fps  \\\n",
       "0                  3                  2048                1       600   \n",
       "1                  7                  4096                2       554   \n",
       "2                 11                  6144                3       533   \n",
       "3                 15                  8192                4       525   \n",
       "4                 19                 10240                5       521   \n",
       "\n",
       "   train/policy_gradient_loss  train/n_updates  train/learning_rate  \\\n",
       "0                         NaN              NaN                  NaN   \n",
       "1                   -0.003963             10.0               0.0003   \n",
       "2                   -0.001701             20.0               0.0003   \n",
       "3                   -0.005899             30.0               0.0003   \n",
       "4                   -0.003772             40.0               0.0003   \n",
       "\n",
       "   train/explained_variance  train/clip_range  train/std  train/entropy_loss  \\\n",
       "0                       NaN               NaN        NaN                 NaN   \n",
       "1                  0.000145               0.2   0.992703           -2.831505   \n",
       "2                  0.000119               0.2   0.988618           -2.817751   \n",
       "3                 -0.000780               0.2   0.973392           -2.800353   \n",
       "4                  0.000012               0.2   0.972896           -2.782533   \n",
       "\n",
       "      train/loss  train/approx_kl  train/value_loss  train/clip_fraction  \n",
       "0            NaN              NaN               NaN                  NaN  \n",
       "1    2225.710938         0.006827      1.882349e+04             0.050000  \n",
       "2   88802.515625         0.002473      1.105717e+05             0.013232  \n",
       "3    5083.414551         0.006648      7.072342e+03             0.065186  \n",
       "4  128967.398438         0.003485      1.756152e+06             0.019873  "
      ]
     },
     "execution_count": 61,
     "metadata": {},
     "output_type": "execute_result"
    }
   ],
   "source": [
    "logs.head()"
   ]
  },
  {
   "cell_type": "code",
   "execution_count": 75,
   "metadata": {},
   "outputs": [
    {
     "data": {
      "text/plain": [
       "<matplotlib.axes._subplots.AxesSubplot at 0x7ff6d9672890>"
      ]
     },
     "execution_count": 75,
     "metadata": {},
     "output_type": "execute_result"
    },
    {
     "data": {
      "image/png": "[encoded data removed]",
      "text/plain": [
       "<Figure size 720x720 with 2 Axes>"
      ]
     },
     "metadata": {
      "needs_background": "light"
     },
     "output_type": "display_data"
    }
   ],
   "source": [
    "plt.figure(figsize=(10, 10))\n",
    "plt.subplot(211)\n",
    "plt.title(\"Policy loss\")\n",
    "logs[\"train/loss\"].plot()\n",
    "\n",
    "plt.subplot(212)\n",
    "plt.title(\"Value loss\")\n",
    "logs[\"train/value_loss\"].plot()"
   ]
  }
 ],
 "metadata": {
  "kernelspec": {
   "display_name": "Python 3",
   "language": "python",
   "name": "python3"
  },
  "language_info": {
   "codemirror_mode": {
    "name": "ipython",
    "version": 3
   },
   "file_extension": ".py",
   "mimetype": "text/x-python",
   "name": "python",
   "nbconvert_exporter": "python",
   "pygments_lexer": "ipython3",
   "version": "3.7.7"
  }
 },
 "nbformat": 4,
 "nbformat_minor": 4
}
